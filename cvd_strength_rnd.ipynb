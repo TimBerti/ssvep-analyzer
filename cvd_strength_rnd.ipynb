{
 "cells": [
  {
   "cell_type": "code",
   "execution_count": 6,
   "metadata": {},
   "outputs": [],
   "source": [
    "import random\n",
    "import numpy as np\n",
    "from math import ceil"
   ]
  },
  {
   "cell_type": "code",
   "execution_count": 18,
   "metadata": {},
   "outputs": [
    {
     "data": {
      "text/plain": [
       "[0.87,\n",
       " 0.79,\n",
       " 0.71,\n",
       " 0.72,\n",
       " 0.72,\n",
       " 0.71,\n",
       " 0.78,\n",
       " 0.81,\n",
       " 0.96,\n",
       " 0.89,\n",
       " 0.87,\n",
       " 0.77,\n",
       " 0.83,\n",
       " 0.84,\n",
       " 0.94]"
      ]
     },
     "execution_count": 18,
     "metadata": {},
     "output_type": "execute_result"
    }
   ],
   "source": [
    "list(np.round(np.random.uniform(0.7, 1, 15), 2))"
   ]
  },
  {
   "cell_type": "code",
   "execution_count": 8,
   "metadata": {},
   "outputs": [
    {
     "data": {
      "text/plain": [
       "[0.31,\n",
       " 0.1,\n",
       " 0.4,\n",
       " 0.28,\n",
       " 0.55,\n",
       " 0.69,\n",
       " 0.56,\n",
       " 0.72,\n",
       " 0.27,\n",
       " 0.04,\n",
       " 0.48,\n",
       " 0.82,\n",
       " 0.19,\n",
       " 0.16,\n",
       " 0.71,\n",
       " 0.13,\n",
       " 0.93,\n",
       " 0.47,\n",
       " 0.98,\n",
       " 0.56,\n",
       " 0.93,\n",
       " 0.27,\n",
       " 0.75,\n",
       " 0.55,\n",
       " 0.72,\n",
       " 0.74,\n",
       " 0.83,\n",
       " 0.1,\n",
       " 0.38,\n",
       " 0.91]"
      ]
     },
     "execution_count": 8,
     "metadata": {},
     "output_type": "execute_result"
    }
   ],
   "source": [
    "n_numbers = 30\n",
    "n_bins = 5\n",
    "x_range = (0, 1)\n",
    "\n",
    "bin_width = (x_range[1] - x_range[0]) / n_bins\n",
    "bin_arr = list(range(n_bins)) * ceil(n_numbers / n_bins)\n",
    "random.shuffle(bin_arr)\n",
    "numbers = [np.round(random.uniform(bin_width * i, bin_width * (i + 1)), 2) for i in bin_arr[:n_numbers]]\n",
    "numbers"
   ]
  },
  {
   "cell_type": "code",
   "execution_count": null,
   "metadata": {},
   "outputs": [],
   "source": []
  }
 ],
 "metadata": {
  "kernelspec": {
   "display_name": "cvd",
   "language": "python",
   "name": "python3"
  },
  "language_info": {
   "codemirror_mode": {
    "name": "ipython",
    "version": 3
   },
   "file_extension": ".py",
   "mimetype": "text/x-python",
   "name": "python",
   "nbconvert_exporter": "python",
   "pygments_lexer": "ipython3",
   "version": "3.11.4"
  }
 },
 "nbformat": 4,
 "nbformat_minor": 2
}
