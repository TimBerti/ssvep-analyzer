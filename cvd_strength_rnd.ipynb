{
 "cells": [
  {
   "cell_type": "code",
   "execution_count": 2,
   "metadata": {},
   "outputs": [
    {
     "data": {
      "text/plain": [
       "[0.05,\n",
       " 0.62,\n",
       " 0.2,\n",
       " 0.85,\n",
       " 0.23,\n",
       " 0.84,\n",
       " 0.58,\n",
       " 0.51,\n",
       " 0.64,\n",
       " 0.94,\n",
       " 0.26,\n",
       " 0.05,\n",
       " 0.37,\n",
       " 0.9,\n",
       " 0.93,\n",
       " 0.27,\n",
       " 0.23,\n",
       " 0.51,\n",
       " 0.43,\n",
       " 0.62,\n",
       " 0.76,\n",
       " 0.43,\n",
       " 0.3,\n",
       " 0.18,\n",
       " 0.57,\n",
       " 0.86,\n",
       " 0.78,\n",
       " 0.2,\n",
       " 0.61,\n",
       " 0.06]"
      ]
     },
     "execution_count": 2,
     "metadata": {},
     "output_type": "execute_result"
    }
   ],
   "source": [
    "import random\n",
    "import numpy as np\n",
    "from math import ceil\n",
    "\n",
    "n_numbers = 30\n",
    "n_bins = 5\n",
    "x_range = (0, 1)\n",
    "\n",
    "bin_width = (x_range[1] - x_range[0]) / n_bins\n",
    "bin_arr = list(range(n_bins)) * ceil(n_numbers / n_bins)\n",
    "random.shuffle(bin_arr)\n",
    "numbers = [np.round(random.uniform(bin_width * i, bin_width * (i + 1)), 2) for i in bin_arr[:n_numbers]]\n",
    "numbers"
   ]
  },
  {
   "cell_type": "code",
   "execution_count": null,
   "metadata": {},
   "outputs": [],
   "source": []
  }
 ],
 "metadata": {
  "kernelspec": {
   "display_name": "cvd",
   "language": "python",
   "name": "python3"
  },
  "language_info": {
   "codemirror_mode": {
    "name": "ipython",
    "version": 3
   },
   "file_extension": ".py",
   "mimetype": "text/x-python",
   "name": "python",
   "nbconvert_exporter": "python",
   "pygments_lexer": "ipython3",
   "version": "3.11.4"
  }
 },
 "nbformat": 4,
 "nbformat_minor": 2
}
